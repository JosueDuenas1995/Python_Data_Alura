{
  "nbformat": 4,
  "nbformat_minor": 0,
  "metadata": {
    "colab": {
      "provenance": [],
      "include_colab_link": true
    },
    "kernelspec": {
      "name": "python3",
      "display_name": "Python 3"
    },
    "language_info": {
      "name": "python"
    }
  },
  "cells": [
    {
      "cell_type": "markdown",
      "metadata": {
        "id": "view-in-github",
        "colab_type": "text"
      },
      "source": [
        "<a href=\"https://colab.research.google.com/github/JosueDuenas1995/Python_Data_Alura/blob/main/PythonUdemyCourse.ipynb\" target=\"_parent\"><img src=\"https://colab.research.google.com/assets/colab-badge.svg\" alt=\"Open In Colab\"/></a>"
      ]
    },
    {
      "cell_type": "markdown",
      "source": [
        "#Uso del module operator\n",
        "\n",
        "se usa para calcular los residuos de una division"
      ],
      "metadata": {
        "id": "A9iNT-NZcHS7"
      }
    },
    {
      "cell_type": "code",
      "execution_count": null,
      "metadata": {
        "colab": {
          "base_uri": "https://localhost:8080/"
        },
        "id": "F4QjhLbiYJxD",
        "outputId": "3eda2266-2f9b-4ed3-e31a-55d9eb7a45e3"
      },
      "outputs": [
        {
          "output_type": "stream",
          "name": "stdout",
          "text": [
            "welcome to the example\n",
            "write a number2\n",
            "its an even\n"
          ]
        }
      ],
      "source": [
        "print(\"welcome to the example\")\n",
        "number = int(input(\"write a number\"))\n",
        "\n",
        "if number % 2 == 0:\n",
        " print(\"its an even\")\n",
        "else:\n",
        " print(\"its an odd\")"
      ]
    },
    {
      "cell_type": "markdown",
      "source": [
        "#Modulo IF ELSE y el ELIF\n",
        "\n",
        "para crear multiples opciones\n"
      ],
      "metadata": {
        "id": "gAG2qk6NcUqM"
      }
    },
    {
      "cell_type": "code",
      "source": [
        "print(\"welcome to the circus\")\n",
        "try:\n",
        " age = int(input(\"how old are you\"))\n",
        "except ValueError:\n",
        "  print(\"write a valid age\")\n",
        "if age < 2:\n",
        "  print(\"you cannot enter\")\n",
        "elif age > 2:\n",
        "  print(\"you must pay 30\")\n",
        "elif age >= 5:\n",
        "  print(\"you mustpay 50\")\n",
        "else:\n",
        "  print(\"You pay 100\")\n"
      ],
      "metadata": {
        "colab": {
          "base_uri": "https://localhost:8080/"
        },
        "id": "4TiGrkEOcfsm",
        "outputId": "54b42fb7-32fd-40ae-fcf7-e33259a9c74c"
      },
      "execution_count": null,
      "outputs": [
        {
          "output_type": "stream",
          "name": "stdout",
          "text": [
            "welcome to the circus\n",
            "how old are youttft\n",
            "write a valid age\n",
            "you cannot enter\n"
          ]
        }
      ]
    },
    {
      "cell_type": "markdown",
      "source": [
        "# Ejercicio de Clase tres de Python\n",
        "\n",
        "Crea un progrtama que crea una orden de pizza\n"
      ],
      "metadata": {
        "id": "ADogzMhFjqiJ"
      }
    },
    {
      "cell_type": "code",
      "source": [
        "from re import L\n",
        "print(\"welcome to udemy pizza time\")\n",
        "size = input(\"what pizza do you want press S, M or L\")\n",
        "pepperoni = input(\"do you want peperroni pres Y for yes or N for no\")\n",
        "cheese = input(\"whant some cheese press y for yes or n for no\")\n",
        "\n",
        "#hablando dela pizza\n",
        "bill = 0\n",
        "if size == \"S\":\n",
        "  bill += 15\n",
        "elif size == \"M\":\n",
        "  bill += 20\n",
        "elif size == \"L\":\n",
        "  bill += 25\n",
        "#hablando del el pepperoni\n",
        "if pepperoni == \"Y\":\n",
        "  if size == \"S\":\n",
        "    bill += 2\n",
        "else:\n",
        "  bill += 3\n",
        "#hablando del queso\n",
        "if cheese == \"Y\":\n",
        "  if size == \"S\":\n",
        "    bill += 2\n",
        "  else:\n",
        "    bill += 3\n",
        "#la cuenta\n",
        "    print(f\"Your Final bill is:  ${bill}.\")\n",
        "\n",
        "\n",
        "\n"
      ],
      "metadata": {
        "colab": {
          "base_uri": "https://localhost:8080/"
        },
        "id": "vITtzC8kj2Pq",
        "outputId": "2b287688-3894-43fd-ed86-305264c74646"
      },
      "execution_count": null,
      "outputs": [
        {
          "output_type": "stream",
          "name": "stdout",
          "text": [
            "welcome to udemy pizza time\n",
            "what pizza do you want press S, M or LM\n",
            "do you want peperroni pres Y for yes or N for noN\n",
            "whant some cheese press y for yes or n for noY\n",
            "Your Final bill is:  $26.\n"
          ]
        }
      ]
    },
    {
      "cell_type": "markdown",
      "source": [
        "#nuevo estudio y practica\n",
        "\n",
        "estudiar"
      ],
      "metadata": {
        "id": "gFn_pVosuqaA"
      }
    },
    {
      "cell_type": "code",
      "source": [
        "not 5 == 5\n",
        "a = 5\n",
        "b = 7\n",
        "\n",
        "if a >= b and a != b:\n",
        "    print(\"A\")\n",
        "elif not a >= b and a != b:\n",
        "    print(\"B\")\n",
        "else:\n",
        "    print(\"C\")"
      ],
      "metadata": {
        "colab": {
          "base_uri": "https://localhost:8080/"
        },
        "id": "3M1QifGZuzsm",
        "outputId": "91f9455b-cfac-428a-9651-f4d8755878bc"
      },
      "execution_count": null,
      "outputs": [
        {
          "output_type": "stream",
          "name": "stdout",
          "text": [
            "B\n"
          ]
        }
      ]
    },
    {
      "cell_type": "markdown",
      "source": [
        "# Ejercico Python: Juego python\n",
        "\n",
        "aqui un ejerecicio un minijuego para practicar else if elif y\n"
      ],
      "metadata": {
        "id": "XV1BaeAClZeR"
      }
    },
    {
      "cell_type": "code",
      "source": [
        "print('''            ~        ~          ~            ~        ~\n",
        " ~                                  _.,-'=_.-'-._  ~        ~\n",
        "         ~     ~           ~   ._.-'             '-._   ~\n",
        "                      _.-':_.-'                      '-._   ~     ~\n",
        "                  _.-'                                   '-._.'-._\n",
        "   ~       .-'.-,'                                                '-.\n",
        "           '-._                       /\\   /\\                    _.-'\n",
        " ~             '-.           (o)(o)  /  \\ /  \\                ._'\n",
        "           ~      '-._         (/      /\\ (           _.'-._,-'\n",
        "                      '-._            /  \\ )      _.-'   (o o)\n",
        " ~     ) ( ) (    ~     .-'               (     .'       ))~((  ~\n",
        "      ) \" ( \" (        .-'                 )    '-._.,.            ~\n",
        "     )  \"  (\"  (       '-._               /           '-._  ~\n",
        "    )   \"   (   ( ___      '-._          (                '.   ~\n",
        "        \"   \"    |   | ~      .'          )                '-._\n",
        "  ---._-|--|--|--|--/     _.-'           /  (o)(o)           _.'   ~\n",
        "       \\ o  o  o  o/     '-._           /    (  )           '-._-'-.\n",
        "   ~~~~~~~~~~~~~~~~~         '-._      (                        _.-'\n",
        "  ~          ~             ~     '-.    ) /\\            _.-\"._,'\n",
        "                  ~              _.'   / /\\ /\\         '.  ~    (o o)\n",
        "    (o o)              _.-'-._.-'     / /  \\  \\          '-._._ ))~((\n",
        "    ))~(( ~        _.-'              /                         '-. ~\n",
        "                .-'              .-'('-._                        '-.\n",
        " ~            _.'         _.-'-.-'~   ~  '.             _.'-.-'._  .'\n",
        "     .-'=_.'-'         .-'  ~   ~   _ _.-'          _.-'     ~   '.'\n",
        "  _.-'                 '-._,.-'._.-'    (o)(o)     '_   ~       ~\n",
        ".'                                         \\)         '-._   ~    ~\n",
        "'-.- = .-'.     (o)(o)                                    '=._\n",
        "          '._    (  )                                         '-.\n",
        "LGB     ~    :_                                            _.-'.-' ~\n",
        "     ~     ~   \"._,-'.-'._    .-`-._;'-._.='._          .-'  ~\n",
        "                    ~     '-_.\"      ~    ~   '-._:'=~_.'       ~\n",
        "           ~     ~      ~        ~     ~        ~          ~    ~\n",
        "''')\n",
        "\n",
        "print(\"you are in the island theprates are waiting your orders, press W to wait or C to continue\")\n",
        "crew = input(\"you faound a cave, press w to enter or c to continue\")\n",
        "pirates = 10\n",
        "if crew == \"w\":\n",
        "  print(\"you waste a lot of time lost 5 members\")\n",
        "  pirates -= 5\n",
        "  if crew == \"c\":\n",
        "    print(\"lets go team keep your pirates\")\n",
        "else:\n",
        "  print(\"no entiendo do it again\")\n",
        "  print(f\"its over now you have left {pirates}.\")\n",
        "\n"
      ],
      "metadata": {
        "id": "NdJ1u8BDk7vH",
        "outputId": "06390378-7cdb-45b1-a170-451dcd3d4df0",
        "colab": {
          "base_uri": "https://localhost:8080/"
        }
      },
      "execution_count": 4,
      "outputs": [
        {
          "output_type": "stream",
          "name": "stdout",
          "text": [
            "            ~        ~          ~            ~        ~\n",
            " ~                                  _.,-'=_.-'-._  ~        ~\n",
            "         ~     ~           ~   ._.-'             '-._   ~\n",
            "                      _.-':_.-'                      '-._   ~     ~\n",
            "                  _.-'                                   '-._.'-._\n",
            "   ~       .-'.-,'                                                '-.\n",
            "           '-._                       /\\   /\\                    _.-'\n",
            " ~             '-.           (o)(o)  /  \\ /  \\                ._'\n",
            "           ~      '-._         (/      /\\ (           _.'-._,-'\n",
            "                      '-._            /  \\ )      _.-'   (o o)\n",
            " ~     ) ( ) (    ~     .-'               (     .'       ))~((  ~\n",
            "      ) \" ( \" (        .-'                 )    '-._.,.            ~\n",
            "     )  \"  (\"  (       '-._               /           '-._  ~ \n",
            "    )   \"   (   ( ___      '-._          (                '.   ~\n",
            "        \"   \"    |   | ~      .'          )                '-._\n",
            "  ---._-|--|--|--|--/     _.-'           /  (o)(o)           _.'   ~\n",
            "       \\ o  o  o  o/     '-._           /    (  )           '-._-'-.\n",
            "   ~~~~~~~~~~~~~~~~~         '-._      (                        _.-'\n",
            "  ~          ~             ~     '-.    ) /\\            _.-\"._,'\n",
            "                  ~              _.'   / /\\ /\\         '.  ~    (o o)\n",
            "    (o o)              _.-'-._.-'     / /  \\  \\          '-._._ ))~((\n",
            "    ))~(( ~        _.-'              /                         '-. ~\n",
            "                .-'              .-'('-._                        '-.\n",
            " ~            _.'         _.-'-.-'~   ~  '.             _.'-.-'._  .'\n",
            "     .-'=_.'-'         .-'  ~   ~   _ _.-'          _.-'     ~   '.'\n",
            "  _.-'                 '-._,.-'._.-'    (o)(o)     '_   ~       ~\n",
            ".'                                         \\)         '-._   ~    ~\n",
            "'-.- = .-'.     (o)(o)                                    '=._\n",
            "          '._    (  )                                         '-.\n",
            "LGB     ~    :_                                            _.-'.-' ~\n",
            "     ~     ~   \"._,-'.-'._    .-`-._;'-._.='._          .-'  ~\n",
            "                    ~     '-_.\"      ~    ~   '-._:'=~_.'       ~\n",
            "           ~     ~      ~        ~     ~        ~          ~    ~\n",
            "\n",
            "you are in the island theprates are waiting your orders, press W to wait or C to continue\n",
            "you faound a cave, press w to enter or c to continuew\n",
            "you waste a lot of time lost 5 members\n"
          ]
        }
      ]
    }
  ]
}